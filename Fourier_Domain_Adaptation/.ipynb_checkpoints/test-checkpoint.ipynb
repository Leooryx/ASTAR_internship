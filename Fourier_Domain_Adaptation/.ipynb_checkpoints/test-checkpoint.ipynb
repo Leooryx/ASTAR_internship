{
 "cells": [
  {
   "cell_type": "code",
   "execution_count": 1,
   "id": "c2e0f0e8",
   "metadata": {},
   "outputs": [
    {
     "name": "stdout",
     "output_type": "stream",
     "text": [
      "Image dimensions: 100 x 100\n",
      "pyvips image read/write works correctly.\n"
     ]
    }
   ],
   "source": [
    "import pyvips\n",
    "\n",
    "\n",
    "\n",
    "# Create a test image (solid color)\n",
    "image = pyvips.Image.black(100, 100).new_from_image([128, 64, 255])  # RGB\n",
    "\n",
    "# Save to memory and reload to test image IO\n",
    "image.write_to_file(\"test_output.jpg\")\n",
    "image2 = pyvips.Image.new_from_file(\"test_output.jpg\")\n",
    "\n",
    "print(\"Image dimensions:\", image2.width, \"x\", image2.height)\n",
    "print(\"pyvips image read/write works correctly.\")\n"
   ]
  },
  {
   "cell_type": "code",
   "execution_count": 4,
   "id": "8c68be41",
   "metadata": {},
   "outputs": [
    {
     "name": "stdout",
     "output_type": "stream",
     "text": [
      "Python executable: /home/leolr-int/miniforge3/envs/py312-poetry/bin/python\n",
      "LD_LIBRARY_PATH: None\n"
     ]
    }
   ],
   "source": [
    "import pyvips\n",
    "import sys\n",
    "import os\n",
    "\n",
    "print(\"Python executable:\", sys.executable)\n",
    "print(\"LD_LIBRARY_PATH:\", os.environ.get(\"LD_LIBRARY_PATH\"))"
   ]
  },
  {
   "cell_type": "code",
   "execution_count": 5,
   "id": "af584a42",
   "metadata": {},
   "outputs": [
    {
     "name": "stderr",
     "output_type": "stream",
     "text": [
      "ldd: warning: you do not have execution permission for `/home/leolr-int/miniforge3/lib/python3.12/site-packages/pyvips/__init__.py'\n",
      "\tnot a dynamic executable\n"
     ]
    },
    {
     "data": {
      "text/plain": [
       "256"
      ]
     },
     "execution_count": 5,
     "metadata": {},
     "output_type": "execute_result"
    }
   ],
   "source": [
    "import pyvips\n",
    "import os\n",
    "os.system(\"ldd $(python -c 'import pyvips; print(pyvips.__file__)')\")"
   ]
  },
  {
   "cell_type": "code",
   "execution_count": 11,
   "id": "01ee3c5d",
   "metadata": {},
   "outputs": [
    {
     "name": "stdout",
     "output_type": "stream",
     "text": [
      "Time taken for FDA: 0.024312973022460938 seconds\n"
     ]
    }
   ],
   "source": [
    "from FDA import Fourier_Domain_Adaptation\n",
    "\n",
    "import numpy as np\n",
    "import deeplake\n",
    "import time\n",
    "import matplotlib.pyplot as plt\n",
    "\n",
    "output_root = \"/home/leolr-int/transformed_data/KFBio\"\n",
    "input_root = \"/home/leolr-int/data/data/patched/dim_256/Train\"\n",
    "#general_average = np.load(\"/home/leolr-int/ASTAR_internship/Fourier_Domain_Adaptation/stored_amplitude/general_average_akoya.npy\")\n",
    "\n",
    "\n",
    "\n",
    "#Test\n",
    "dataset_path_akoya_1 = f\"/home/leolr-int/data/data/patched/dim_256/Train/Subset3_Train_1_Akoya\"\n",
    "akoya_1 = deeplake.open_read_only(dataset_path_akoya_1)\n",
    "dataset_path_KFbio_1 = f\"/home/leolr-int/data/data/patched/dim_256/Train/Subset3_Train_1_KFBio\"\n",
    "KFBio_1 = deeplake.open_read_only(dataset_path_KFbio_1)\n",
    "src_img = KFBio_1[200][\"patch\"].transpose((2, 0, 1))  # (3, 256, 256)\n",
    "trg_img = akoya_1[200][\"patch\"].transpose((2, 0, 1))\n",
    "\n",
    "output_folder = '/home/leolr-int/ASTAR_internship/Fourier_Domain_Adaptation/images'\n",
    "\n",
    "\n",
    "start_time = time.time()\n",
    "KFBio_to_Akoya = Fourier_Domain_Adaptation(src_img, save=False, output_folder=output_folder, display=False)\n",
    "end_time = time.time()\n",
    "print(f\"Time taken for FDA: {end_time - start_time} seconds\")   \n",
    "\n",
    "\n"
   ]
  },
  {
   "cell_type": "code",
   "execution_count": null,
   "id": "1e849b99",
   "metadata": {},
   "outputs": [
    {
     "name": "stdout",
     "output_type": "stream",
     "text": [
      "/home/leolr-int/ASTAR_internship/Fourier_Domain_Adaptation\n"
     ]
    }
   ],
   "source": []
  },
  {
   "cell_type": "code",
   "execution_count": 3,
   "id": "3c1b5e67",
   "metadata": {},
   "outputs": [
    {
     "name": "stdout",
     "output_type": "stream",
     "text": [
      "2.7.1+cu126\n",
      "12.6\n"
     ]
    }
   ],
   "source": [
    "import torch\n",
    "print(torch.__version__)\n",
    "print(torch.version.cuda)"
   ]
  },
  {
   "cell_type": "code",
   "execution_count": 1,
   "id": "e6796441",
   "metadata": {},
   "outputs": [
    {
     "name": "stdout",
     "output_type": "stream",
     "text": [
      "2.6.0+cu118\n",
      "11.8\n",
      "CUDA available: False\n"
     ]
    }
   ],
   "source": [
    "import torch\n",
    "print(torch.__version__)\n",
    "print(torch.version.cuda)\n",
    "print('CUDA available:', torch.cuda.is_available())"
   ]
  }
 ],
 "metadata": {
  "kernelspec": {
   "display_name": "Python 3.12 (CUDA Good)",
   "language": "python",
   "name": "py312-cudagood"
  },
  "language_info": {
   "codemirror_mode": {
    "name": "ipython",
    "version": 3
   },
   "file_extension": ".py",
   "mimetype": "text/x-python",
   "name": "python",
   "nbconvert_exporter": "python",
   "pygments_lexer": "ipython3",
   "version": "3.12.11"
  }
 },
 "nbformat": 4,
 "nbformat_minor": 5
}
