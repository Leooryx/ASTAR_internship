{
 "cells": [
  {
   "cell_type": "code",
   "execution_count": 1,
   "id": "c2e0f0e8",
   "metadata": {},
   "outputs": [
    {
     "name": "stdout",
     "output_type": "stream",
     "text": [
      "Image dimensions: 100 x 100\n",
      "pyvips image read/write works correctly.\n"
     ]
    }
   ],
   "source": [
    "import pyvips\n",
    "\n",
    "\n",
    "\n",
    "# Create a test image (solid color)\n",
    "image = pyvips.Image.black(100, 100).new_from_image([128, 64, 255])  # RGB\n",
    "\n",
    "# Save to memory and reload to test image IO\n",
    "image.write_to_file(\"test_output.jpg\")\n",
    "image2 = pyvips.Image.new_from_file(\"test_output.jpg\")\n",
    "\n",
    "print(\"Image dimensions:\", image2.width, \"x\", image2.height)\n",
    "print(\"pyvips image read/write works correctly.\")\n"
   ]
  },
  {
   "cell_type": "code",
   "execution_count": 4,
   "id": "8c68be41",
   "metadata": {},
   "outputs": [
    {
     "name": "stdout",
     "output_type": "stream",
     "text": [
      "Python executable: /home/leolr-int/miniforge3/envs/py312-poetry/bin/python\n",
      "LD_LIBRARY_PATH: None\n"
     ]
    }
   ],
   "source": [
    "import pyvips\n",
    "import sys\n",
    "import os\n",
    "\n",
    "print(\"Python executable:\", sys.executable)\n",
    "print(\"LD_LIBRARY_PATH:\", os.environ.get(\"LD_LIBRARY_PATH\"))"
   ]
  },
  {
   "cell_type": "code",
   "execution_count": 5,
   "id": "af584a42",
   "metadata": {},
   "outputs": [
    {
     "name": "stderr",
     "output_type": "stream",
     "text": [
      "ldd: warning: you do not have execution permission for `/home/leolr-int/miniforge3/lib/python3.12/site-packages/pyvips/__init__.py'\n",
      "\tnot a dynamic executable\n"
     ]
    },
    {
     "data": {
      "text/plain": [
       "256"
      ]
     },
     "execution_count": 5,
     "metadata": {},
     "output_type": "execute_result"
    }
   ],
   "source": [
    "import pyvips\n",
    "import os\n",
    "os.system(\"ldd $(python -c 'import pyvips; print(pyvips.__file__)')\")"
   ]
  }
 ],
 "metadata": {
  "kernelspec": {
   "display_name": "Python 3.12 (Poetry + PyVips)",
   "language": "python",
   "name": "py312-poetry"
  }
 },
 "nbformat": 4,
 "nbformat_minor": 5
}
