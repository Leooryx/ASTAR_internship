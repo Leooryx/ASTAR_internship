{
 "cells": [
  {
   "cell_type": "code",
   "execution_count": 1,
   "id": "c2e0f0e8",
   "metadata": {},
   "outputs": [
    {
     "name": "stdout",
     "output_type": "stream",
     "text": [
      "Image dimensions: 100 x 100\n",
      "pyvips image read/write works correctly.\n"
     ]
    }
   ],
   "source": [
    "import pyvips\n",
    "\n",
    "\n",
    "\n",
    "# Create a test image (solid color)\n",
    "image = pyvips.Image.black(100, 100).new_from_image([128, 64, 255])  # RGB\n",
    "\n",
    "# Save to memory and reload to test image IO\n",
    "image.write_to_file(\"test_output.jpg\")\n",
    "image2 = pyvips.Image.new_from_file(\"test_output.jpg\")\n",
    "\n",
    "print(\"Image dimensions:\", image2.width, \"x\", image2.height)\n",
    "print(\"pyvips image read/write works correctly.\")\n"
   ]
  },
  {
   "cell_type": "code",
   "execution_count": 4,
   "id": "8c68be41",
   "metadata": {},
   "outputs": [
    {
     "name": "stdout",
     "output_type": "stream",
     "text": [
      "Python executable: /home/leolr-int/miniforge3/envs/py312-poetry/bin/python\n",
      "LD_LIBRARY_PATH: None\n"
     ]
    }
   ],
   "source": [
    "import pyvips\n",
    "import sys\n",
    "import os\n",
    "\n",
    "print(\"Python executable:\", sys.executable)\n",
    "print(\"LD_LIBRARY_PATH:\", os.environ.get(\"LD_LIBRARY_PATH\"))"
   ]
  },
  {
   "cell_type": "code",
   "execution_count": 5,
   "id": "af584a42",
   "metadata": {},
   "outputs": [
    {
     "name": "stderr",
     "output_type": "stream",
     "text": [
      "ldd: warning: you do not have execution permission for `/home/leolr-int/miniforge3/lib/python3.12/site-packages/pyvips/__init__.py'\n",
      "\tnot a dynamic executable\n"
     ]
    },
    {
     "data": {
      "text/plain": [
       "256"
      ]
     },
     "execution_count": 5,
     "metadata": {},
     "output_type": "execute_result"
    }
   ],
   "source": [
    "import pyvips\n",
    "import os\n",
    "os.system(\"ldd $(python -c 'import pyvips; print(pyvips.__file__)')\")"
   ]
  },
  {
   "cell_type": "code",
   "execution_count": null,
   "id": "01ee3c5d",
   "metadata": {},
   "outputs": [
    {
     "name": "stdout",
     "output_type": "stream",
     "text": [
      "heyyyy\n"
     ]
    }
   ],
   "source": [
    "from FDA import test1\n",
    "\n",
    "test1()\n",
    "\n",
    "output_root = \"/home/leolr-int/transformed_data/KFBio\"\n",
    "input_root = \"/home/leolr-int/data/data/patched/dim_256/Train\"\n",
    "general_average = np.load(\"/home/leolr-int/ASTAR_internship/Fourier_Domain_Adaptation/stored_amplitude/general_average_akoya.npy\")\n",
    "\n",
    "L_values = [0.01, 0.02, 0.05]\n",
    "label_map = {0: \"stroma\", 1: \"normal\", 2: \"G3\", 3: \"G4\", 4: \"G5\"}\n",
    "\n",
    "\n",
    "\n"
   ]
  },
  {
   "cell_type": "code",
   "execution_count": null,
   "id": "1e849b99",
   "metadata": {},
   "outputs": [
    {
     "name": "stdout",
     "output_type": "stream",
     "text": [
      "/home/leolr-int/ASTAR_internship/Fourier_Domain_Adaptation\n"
     ]
    }
   ],
   "source": []
  }
 ],
 "metadata": {
  "kernelspec": {
   "display_name": "Python 3.12 (Poetry + PyVips + CUDA11.8)",
   "language": "python",
   "name": "py312-poetry"
  }
 },
 "nbformat": 4,
 "nbformat_minor": 5
}
